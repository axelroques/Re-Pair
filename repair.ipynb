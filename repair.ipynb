{
 "cells": [
  {
   "cell_type": "code",
   "execution_count": 1,
   "id": "e5d359cf",
   "metadata": {},
   "outputs": [],
   "source": [
    "%load_ext autoreload\n",
    "\n",
    "from repair import RePair"
   ]
  },
  {
   "cell_type": "code",
   "execution_count": 10,
   "id": "a88ec4a6",
   "metadata": {},
   "outputs": [],
   "source": [
    "%autoreload\n",
    "\n",
    "s = 'singing.do.wah.diddy.diddy.dum.diddy.do'\n",
    "# s = 'aabaabababaab'\n",
    "# s = ['abc', 'abc', 'abc', 'abb', 'adb']\n",
    "\n",
    "phrases = RePair(s)"
   ]
  },
  {
   "cell_type": "code",
   "execution_count": 11,
   "id": "0734f086",
   "metadata": {},
   "outputs": [
    {
     "data": {
      "text/html": [
       "<div>\n",
       "<style scoped>\n",
       "    .dataframe tbody tr th:only-of-type {\n",
       "        vertical-align: middle;\n",
       "    }\n",
       "\n",
       "    .dataframe tbody tr th {\n",
       "        vertical-align: top;\n",
       "    }\n",
       "\n",
       "    .dataframe thead th {\n",
       "        text-align: right;\n",
       "    }\n",
       "</style>\n",
       "<table border=\"1\" class=\"dataframe\">\n",
       "  <thead>\n",
       "    <tr style=\"text-align: right;\">\n",
       "      <th></th>\n",
       "      <th>Rule</th>\n",
       "      <th>Expanded Rule</th>\n",
       "      <th>Occurrence</th>\n",
       "      <th>Phrase</th>\n",
       "    </tr>\n",
       "  </thead>\n",
       "  <tbody>\n",
       "    <tr>\n",
       "      <th></th>\n",
       "      <td></td>\n",
       "      <td></td>\n",
       "      <td>1</td>\n",
       "      <td>s i n g i n g . d o . w a h . d i d d y . d i ...</td>\n",
       "    </tr>\n",
       "    <tr>\n",
       "      <th>R1</th>\n",
       "      <td>. d</td>\n",
       "      <td>. d</td>\n",
       "      <td>6</td>\n",
       "      <td>s i n g i n g 1 o . w a h 1 i d d y 1 i d d y ...</td>\n",
       "    </tr>\n",
       "    <tr>\n",
       "      <th>R2</th>\n",
       "      <td>1 i</td>\n",
       "      <td>. d i</td>\n",
       "      <td>3</td>\n",
       "      <td>s i n g i n g 1 o . w a h 2 d d y 2 d d y 1 u ...</td>\n",
       "    </tr>\n",
       "    <tr>\n",
       "      <th>R3</th>\n",
       "      <td>2 d</td>\n",
       "      <td>. d i d</td>\n",
       "      <td>3</td>\n",
       "      <td>s i n g i n g 1 o . w a h 3 d y 3 d y 1 u m 3 ...</td>\n",
       "    </tr>\n",
       "    <tr>\n",
       "      <th>R4</th>\n",
       "      <td>3 d</td>\n",
       "      <td>. d i d d</td>\n",
       "      <td>3</td>\n",
       "      <td>s i n g i n g 1 o . w a h 4 y 4 y 1 u m 4 y 1 o</td>\n",
       "    </tr>\n",
       "    <tr>\n",
       "      <th>R5</th>\n",
       "      <td>4 y</td>\n",
       "      <td>. d i d d y</td>\n",
       "      <td>3</td>\n",
       "      <td>s i n g i n g 1 o . w a h 5 5 1 u m 5 1 o</td>\n",
       "    </tr>\n",
       "    <tr>\n",
       "      <th>R6</th>\n",
       "      <td>i n</td>\n",
       "      <td>i n</td>\n",
       "      <td>2</td>\n",
       "      <td>s 6 g 6 g 1 o . w a h 5 5 1 u m 5 1 o</td>\n",
       "    </tr>\n",
       "    <tr>\n",
       "      <th>R7</th>\n",
       "      <td>6 g</td>\n",
       "      <td>i n g</td>\n",
       "      <td>2</td>\n",
       "      <td>s 7 7 1 o . w a h 5 5 1 u m 5 1 o</td>\n",
       "    </tr>\n",
       "    <tr>\n",
       "      <th>R8</th>\n",
       "      <td>1 o</td>\n",
       "      <td>. d o</td>\n",
       "      <td>2</td>\n",
       "      <td>s 7 7 8 . w a h 5 5 1 u m 5 8</td>\n",
       "    </tr>\n",
       "  </tbody>\n",
       "</table>\n",
       "</div>"
      ],
      "text/plain": [
       "   Rule Expanded Rule  Occurrence  \\\n",
       "                                1   \n",
       "R1  . d           . d           6   \n",
       "R2  1 i         . d i           3   \n",
       "R3  2 d       . d i d           3   \n",
       "R4  3 d     . d i d d           3   \n",
       "R5  4 y   . d i d d y           3   \n",
       "R6  i n           i n           2   \n",
       "R7  6 g         i n g           2   \n",
       "R8  1 o         . d o           2   \n",
       "\n",
       "                                               Phrase  \n",
       "    s i n g i n g . d o . w a h . d i d d y . d i ...  \n",
       "R1  s i n g i n g 1 o . w a h 1 i d d y 1 i d d y ...  \n",
       "R2  s i n g i n g 1 o . w a h 2 d d y 2 d d y 1 u ...  \n",
       "R3  s i n g i n g 1 o . w a h 3 d y 3 d y 1 u m 3 ...  \n",
       "R4    s i n g i n g 1 o . w a h 4 y 4 y 1 u m 4 y 1 o  \n",
       "R5          s i n g i n g 1 o . w a h 5 5 1 u m 5 1 o  \n",
       "R6              s 6 g 6 g 1 o . w a h 5 5 1 u m 5 1 o  \n",
       "R7                  s 7 7 1 o . w a h 5 5 1 u m 5 1 o  \n",
       "R8                      s 7 7 8 . w a h 5 5 1 u m 5 8  "
      ]
     },
     "execution_count": 11,
     "metadata": {},
     "output_type": "execute_result"
    }
   ],
   "source": [
    "phrases.get_results()"
   ]
  },
  {
   "cell_type": "code",
   "execution_count": 9,
   "id": "a36257b9",
   "metadata": {},
   "outputs": [],
   "source": [
    "%autoreload\n",
    "\n",
    "phrases.get_hierarchy()"
   ]
  },
  {
   "cell_type": "code",
   "execution_count": null,
   "id": "8741ac3b",
   "metadata": {},
   "outputs": [],
   "source": []
  }
 ],
 "metadata": {
  "kernelspec": {
   "display_name": "Python 3",
   "language": "python",
   "name": "python3"
  },
  "language_info": {
   "codemirror_mode": {
    "name": "ipython",
    "version": 3
   },
   "file_extension": ".py",
   "mimetype": "text/x-python",
   "name": "python",
   "nbconvert_exporter": "python",
   "pygments_lexer": "ipython3",
   "version": "3.8.3"
  }
 },
 "nbformat": 4,
 "nbformat_minor": 5
}
