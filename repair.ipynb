{
 "cells": [
  {
   "cell_type": "code",
   "execution_count": 39,
   "id": "5cfea613",
   "metadata": {},
   "outputs": [
    {
     "name": "stdout",
     "output_type": "stream",
     "text": [
      "The autoreload extension is already loaded. To reload it, use:\n",
      "  %reload_ext autoreload\n"
     ]
    }
   ],
   "source": [
    "%load_ext autoreload\n",
    "\n",
    "from repair.repair import repair"
   ]
  },
  {
   "cell_type": "code",
   "execution_count": 61,
   "id": "39363c2e",
   "metadata": {},
   "outputs": [],
   "source": [
    "%autoreload\n",
    "\n",
    "s = 'singing.do.wah.diddy.diddy.dum.diddy.do'\n",
    "# s = 'aabaabababaab'\n",
    "\n",
    "phrases = repair(s)"
   ]
  },
  {
   "cell_type": "code",
   "execution_count": 62,
   "id": "b5a3c2a8",
   "metadata": {},
   "outputs": [
    {
     "data": {
      "text/html": [
       "<div>\n",
       "<style scoped>\n",
       "    .dataframe tbody tr th:only-of-type {\n",
       "        vertical-align: middle;\n",
       "    }\n",
       "\n",
       "    .dataframe tbody tr th {\n",
       "        vertical-align: top;\n",
       "    }\n",
       "\n",
       "    .dataframe thead th {\n",
       "        text-align: right;\n",
       "    }\n",
       "</style>\n",
       "<table border=\"1\" class=\"dataframe\">\n",
       "  <thead>\n",
       "    <tr style=\"text-align: right;\">\n",
       "      <th></th>\n",
       "      <th>Occurrences</th>\n",
       "      <th>Phrase</th>\n",
       "    </tr>\n",
       "  </thead>\n",
       "  <tbody>\n",
       "    <tr>\n",
       "      <th></th>\n",
       "      <td>1</td>\n",
       "      <td>singing.do.wah.diddy.diddy.dum.diddy.do</td>\n",
       "    </tr>\n",
       "    <tr>\n",
       "      <th>1 🠖 .d</th>\n",
       "      <td>6</td>\n",
       "      <td>singing1o.wah1iddy1iddy1um1iddy1o</td>\n",
       "    </tr>\n",
       "    <tr>\n",
       "      <th>2 🠖 1i</th>\n",
       "      <td>3</td>\n",
       "      <td>singing1o.wah2ddy2ddy1um2ddy1o</td>\n",
       "    </tr>\n",
       "    <tr>\n",
       "      <th>3 🠖 2d</th>\n",
       "      <td>3</td>\n",
       "      <td>singing1o.wah3dy3dy1um3dy1o</td>\n",
       "    </tr>\n",
       "    <tr>\n",
       "      <th>4 🠖 3d</th>\n",
       "      <td>3</td>\n",
       "      <td>singing1o.wah4y4y1um4y1o</td>\n",
       "    </tr>\n",
       "    <tr>\n",
       "      <th>5 🠖 4y</th>\n",
       "      <td>3</td>\n",
       "      <td>singing1o.wah551um51o</td>\n",
       "    </tr>\n",
       "    <tr>\n",
       "      <th>6 🠖 in</th>\n",
       "      <td>2</td>\n",
       "      <td>s6g6g1o.wah551um51o</td>\n",
       "    </tr>\n",
       "    <tr>\n",
       "      <th>7 🠖 6g</th>\n",
       "      <td>2</td>\n",
       "      <td>s771o.wah551um51o</td>\n",
       "    </tr>\n",
       "    <tr>\n",
       "      <th>8 🠖 1o</th>\n",
       "      <td>2</td>\n",
       "      <td>s778.wah551um58</td>\n",
       "    </tr>\n",
       "  </tbody>\n",
       "</table>\n",
       "</div>"
      ],
      "text/plain": [
       "        Occurrences                                   Phrase\n",
       "                  1  singing.do.wah.diddy.diddy.dum.diddy.do\n",
       "1 🠖 .d            6        singing1o.wah1iddy1iddy1um1iddy1o\n",
       "2 🠖 1i            3           singing1o.wah2ddy2ddy1um2ddy1o\n",
       "3 🠖 2d            3              singing1o.wah3dy3dy1um3dy1o\n",
       "4 🠖 3d            3                 singing1o.wah4y4y1um4y1o\n",
       "5 🠖 4y            3                    singing1o.wah551um51o\n",
       "6 🠖 in            2                      s6g6g1o.wah551um51o\n",
       "7 🠖 6g            2                        s771o.wah551um51o\n",
       "8 🠖 1o            2                          s778.wah551um58"
      ]
     },
     "execution_count": 62,
     "metadata": {},
     "output_type": "execute_result"
    }
   ],
   "source": [
    "phrases.get_results()"
   ]
  },
  {
   "cell_type": "code",
   "execution_count": 63,
   "id": "34f0e8a9",
   "metadata": {},
   "outputs": [],
   "source": [
    "phrases.get_hierarchy()"
   ]
  },
  {
   "cell_type": "code",
   "execution_count": 5,
   "id": "ab0f5ae6",
   "metadata": {},
   "outputs": [],
   "source": []
  },
  {
   "cell_type": "code",
   "execution_count": null,
   "id": "1e307a44",
   "metadata": {},
   "outputs": [],
   "source": []
  }
 ],
 "metadata": {
  "kernelspec": {
   "display_name": "Python 3",
   "language": "python",
   "name": "python3"
  },
  "language_info": {
   "codemirror_mode": {
    "name": "ipython",
    "version": 3
   },
   "file_extension": ".py",
   "mimetype": "text/x-python",
   "name": "python",
   "nbconvert_exporter": "python",
   "pygments_lexer": "ipython3",
   "version": "3.8.3"
  }
 },
 "nbformat": 4,
 "nbformat_minor": 5
}
